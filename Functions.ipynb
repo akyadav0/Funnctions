{
  "nbformat": 4,
  "nbformat_minor": 0,
  "metadata": {
    "colab": {
      "provenance": []
    },
    "kernelspec": {
      "name": "python3",
      "display_name": "Python 3"
    },
    "language_info": {
      "name": "python"
    }
  },
  "cells": [
    {
      "cell_type": "markdown",
      "source": [
        "# Functions Theory Questions:"
      ],
      "metadata": {
        "id": "JXRKhOn6H9bB"
      }
    },
    {
      "cell_type": "markdown",
      "source": [],
      "metadata": {
        "id": "0vsx0NapIEYs"
      }
    },
    {
      "cell_type": "markdown",
      "source": [
        "1. What is the difference between a function and a method in Python?\n",
        "- 1. Difference between function and method\n",
        "\n",
        "***Function:*** Independent block of code not associated with any object.\n",
        "\n",
        "    def greet(name):\n",
        "      return f\"Hello, {name}!\"\n",
        "\n",
        "***Method:*** Function that belongs to an object/class.\n",
        "\n",
        "    class Person:\n",
        "      def greet(self, name):\n",
        "        return f\"Hello, {name}!\""
      ],
      "metadata": {
        "id": "QeC_Q2BcI9wC"
      }
    },
    {
      "cell_type": "markdown",
      "source": [
        "2. Explain the concept of function arguments and parameters in Python.\n",
        "- Function Arguments and Parameters in Python\n",
        "\n",
        "    ***Parameters:*** Variables listed in the function definition.\n",
        "\n",
        "    ***Arguments:*** Arguments:Values passed to the function when calling it.\n",
        "\n",
        "    example\n",
        "    def greet(name):    (`name` is a parameter)\n",
        "\n",
        "    print(f\"Hello, {name}!\")\n",
        "\n",
        "    greet(\"Alice\")    # \"Alice\" is an argument\n",
        "  "
      ],
      "metadata": {
        "id": "wSNEThY_JkRY"
      }
    },
    {
      "cell_type": "markdown",
      "source": [
        "3. What are the different ways to define and call a function in Python?\n",
        "- Define:  Using def keyword:\n",
        "\n",
        "    def say_hello():\n",
        "\n",
        "    print(\"Hello!\")\n",
        "\n",
        "- Call: By using the function name followed by parentheses:\n",
        "\n",
        " say_hello()\n",
        "\n"
      ],
      "metadata": {
        "id": "EhTKFOHDLr8P"
      }
    },
    {
      "cell_type": "markdown",
      "source": [
        "4. What is the purpose of the `return` statement in a Python function?\n",
        "- The return statement is used to send a result back to the caller from a function.\n",
        "Example:\n",
        "\n",
        "def square(num):\n",
        "\n",
        "    return num * num\n",
        "\n",
        "print(square(4))\n"
      ],
      "metadata": {
        "id": "KHus3GnvM7Kn"
      }
    },
    {
      "cell_type": "markdown",
      "source": [
        "5. What are iterators in Python and how do they differ from iterables?\n",
        "- Iterable: An object that can be looped over (like lists, tuples, etc.).\n",
        "\n",
        " Iterator: An object that produces the next value when next()\n",
        "\n",
        " Example\n",
        "\n",
        " my_list = [1, 2, 3]  # iterable\n",
        "\n",
        "  it = iter(my_list)   # iterator\n",
        "\n",
        "  print(next(it))  # 1\n"
      ],
      "metadata": {
        "id": "-JzdkDZeNi-x"
      }
    },
    {
      "cell_type": "markdown",
      "source": [
        "6. Explain the concept of generators in Python and how they are defined.\n",
        "- Generators are special iterators created using functions with the yield keyword. They produce values lazily (one at a time).\n",
        "\n",
        "example\n",
        "def gen_nums():\n",
        "\n",
        "    for i in range(3):\n",
        "        yield i\n",
        "g = gen_nums()\n",
        "\n",
        "print(next(g))  \n"
      ],
      "metadata": {
        "id": "Zw0MPdGaOWyr"
      }
    },
    {
      "cell_type": "markdown",
      "source": [
        "7. What are the advantages of using generators over regular functions?\n",
        "- Useful for handling large datasets or infinite sequences.\n",
        "\n",
        "  Memory efficient (does not store entire data in memory)\n",
        "\n",
        "  example\n",
        "  \n",
        "  n = 0\n",
        "    while True:\n",
        "        yield n\n",
        "        n += 1"
      ],
      "metadata": {
        "id": "V0bO1SmbVnhy"
      }
    },
    {
      "cell_type": "markdown",
      "source": [
        "8. What is a lambda function in Python and when is it typically used?\n",
        "- A lambda function is an anonymous function defined using the lambda keyword. It is typically used for short, simple operations.\n",
        "\n",
        "example\n",
        "\n",
        "square = lambda x: x * x\n",
        "\n",
        "print(square(5))"
      ],
      "metadata": {
        "id": "ZbzYPR3jWUie"
      }
    },
    {
      "cell_type": "markdown",
      "source": [
        "9. Explain the purpose and usage of the `map()` function in Python.\n",
        "- map() applies a function to every item of an iterable.\n",
        "\n",
        "example\n",
        "\n",
        "nums = [1, 2, 3]\n",
        "\n",
        "squared = map(lambda x: x**2, nums)\n",
        "\n",
        "print(list(squared))"
      ],
      "metadata": {
        "id": "7SGIL16IWzff"
      }
    },
    {
      "cell_type": "markdown",
      "source": [
        "10. What is the difference between `map()`, `reduce()`, and `filter()` functions in Python?\n",
        "- map(): Applies a function to all elements of an iterable\n",
        "\n",
        "example\n",
        "\n",
        "map(lambda x: x*2,[1][2]) ->[2][4]\n",
        "\n",
        "- reduce():\tReduces an iterable to a single value using a binary function\n",
        "\n",
        "example\n",
        "\n",
        "reduce(lambda x,y:x+y,[1][2]) ->3\n",
        "\n",
        "\n",
        "- filter():\tFilters elements based on a condition\n",
        "\n",
        "example\n",
        "\n",
        "filter(lambda x:x>0,[1,-1]) ->[1]"
      ],
      "metadata": {
        "id": "YaEo0BX0XKI9"
      }
    },
    {
      "cell_type": "code",
      "source": [
        "\"\"\" 11. Using pen & Paper write the internal mechanism for sum operation using  reduce function on this given list:[47,11,42,13]\"\"\"\n",
        "from google.colab import files\n",
        "uploaded = files.upload()"
      ],
      "metadata": {
        "colab": {
          "base_uri": "https://localhost:8080/",
          "height": 94
        },
        "id": "l8prQhJfc542",
        "outputId": "6209b827-dbf5-4881-f044-57179bf8973d"
      },
      "execution_count": 11,
      "outputs": [
        {
          "output_type": "display_data",
          "data": {
            "text/plain": [
              "<IPython.core.display.HTML object>"
            ],
            "text/html": [
              "\n",
              "     <input type=\"file\" id=\"files-33997aff-e395-4e72-8e80-15fd91c485a1\" name=\"files[]\" multiple disabled\n",
              "        style=\"border:none\" />\n",
              "     <output id=\"result-33997aff-e395-4e72-8e80-15fd91c485a1\">\n",
              "      Upload widget is only available when the cell has been executed in the\n",
              "      current browser session. Please rerun this cell to enable.\n",
              "      </output>\n",
              "      <script>// Copyright 2017 Google LLC\n",
              "//\n",
              "// Licensed under the Apache License, Version 2.0 (the \"License\");\n",
              "// you may not use this file except in compliance with the License.\n",
              "// You may obtain a copy of the License at\n",
              "//\n",
              "//      http://www.apache.org/licenses/LICENSE-2.0\n",
              "//\n",
              "// Unless required by applicable law or agreed to in writing, software\n",
              "// distributed under the License is distributed on an \"AS IS\" BASIS,\n",
              "// WITHOUT WARRANTIES OR CONDITIONS OF ANY KIND, either express or implied.\n",
              "// See the License for the specific language governing permissions and\n",
              "// limitations under the License.\n",
              "\n",
              "/**\n",
              " * @fileoverview Helpers for google.colab Python module.\n",
              " */\n",
              "(function(scope) {\n",
              "function span(text, styleAttributes = {}) {\n",
              "  const element = document.createElement('span');\n",
              "  element.textContent = text;\n",
              "  for (const key of Object.keys(styleAttributes)) {\n",
              "    element.style[key] = styleAttributes[key];\n",
              "  }\n",
              "  return element;\n",
              "}\n",
              "\n",
              "// Max number of bytes which will be uploaded at a time.\n",
              "const MAX_PAYLOAD_SIZE = 100 * 1024;\n",
              "\n",
              "function _uploadFiles(inputId, outputId) {\n",
              "  const steps = uploadFilesStep(inputId, outputId);\n",
              "  const outputElement = document.getElementById(outputId);\n",
              "  // Cache steps on the outputElement to make it available for the next call\n",
              "  // to uploadFilesContinue from Python.\n",
              "  outputElement.steps = steps;\n",
              "\n",
              "  return _uploadFilesContinue(outputId);\n",
              "}\n",
              "\n",
              "// This is roughly an async generator (not supported in the browser yet),\n",
              "// where there are multiple asynchronous steps and the Python side is going\n",
              "// to poll for completion of each step.\n",
              "// This uses a Promise to block the python side on completion of each step,\n",
              "// then passes the result of the previous step as the input to the next step.\n",
              "function _uploadFilesContinue(outputId) {\n",
              "  const outputElement = document.getElementById(outputId);\n",
              "  const steps = outputElement.steps;\n",
              "\n",
              "  const next = steps.next(outputElement.lastPromiseValue);\n",
              "  return Promise.resolve(next.value.promise).then((value) => {\n",
              "    // Cache the last promise value to make it available to the next\n",
              "    // step of the generator.\n",
              "    outputElement.lastPromiseValue = value;\n",
              "    return next.value.response;\n",
              "  });\n",
              "}\n",
              "\n",
              "/**\n",
              " * Generator function which is called between each async step of the upload\n",
              " * process.\n",
              " * @param {string} inputId Element ID of the input file picker element.\n",
              " * @param {string} outputId Element ID of the output display.\n",
              " * @return {!Iterable<!Object>} Iterable of next steps.\n",
              " */\n",
              "function* uploadFilesStep(inputId, outputId) {\n",
              "  const inputElement = document.getElementById(inputId);\n",
              "  inputElement.disabled = false;\n",
              "\n",
              "  const outputElement = document.getElementById(outputId);\n",
              "  outputElement.innerHTML = '';\n",
              "\n",
              "  const pickedPromise = new Promise((resolve) => {\n",
              "    inputElement.addEventListener('change', (e) => {\n",
              "      resolve(e.target.files);\n",
              "    });\n",
              "  });\n",
              "\n",
              "  const cancel = document.createElement('button');\n",
              "  inputElement.parentElement.appendChild(cancel);\n",
              "  cancel.textContent = 'Cancel upload';\n",
              "  const cancelPromise = new Promise((resolve) => {\n",
              "    cancel.onclick = () => {\n",
              "      resolve(null);\n",
              "    };\n",
              "  });\n",
              "\n",
              "  // Wait for the user to pick the files.\n",
              "  const files = yield {\n",
              "    promise: Promise.race([pickedPromise, cancelPromise]),\n",
              "    response: {\n",
              "      action: 'starting',\n",
              "    }\n",
              "  };\n",
              "\n",
              "  cancel.remove();\n",
              "\n",
              "  // Disable the input element since further picks are not allowed.\n",
              "  inputElement.disabled = true;\n",
              "\n",
              "  if (!files) {\n",
              "    return {\n",
              "      response: {\n",
              "        action: 'complete',\n",
              "      }\n",
              "    };\n",
              "  }\n",
              "\n",
              "  for (const file of files) {\n",
              "    const li = document.createElement('li');\n",
              "    li.append(span(file.name, {fontWeight: 'bold'}));\n",
              "    li.append(span(\n",
              "        `(${file.type || 'n/a'}) - ${file.size} bytes, ` +\n",
              "        `last modified: ${\n",
              "            file.lastModifiedDate ? file.lastModifiedDate.toLocaleDateString() :\n",
              "                                    'n/a'} - `));\n",
              "    const percent = span('0% done');\n",
              "    li.appendChild(percent);\n",
              "\n",
              "    outputElement.appendChild(li);\n",
              "\n",
              "    const fileDataPromise = new Promise((resolve) => {\n",
              "      const reader = new FileReader();\n",
              "      reader.onload = (e) => {\n",
              "        resolve(e.target.result);\n",
              "      };\n",
              "      reader.readAsArrayBuffer(file);\n",
              "    });\n",
              "    // Wait for the data to be ready.\n",
              "    let fileData = yield {\n",
              "      promise: fileDataPromise,\n",
              "      response: {\n",
              "        action: 'continue',\n",
              "      }\n",
              "    };\n",
              "\n",
              "    // Use a chunked sending to avoid message size limits. See b/62115660.\n",
              "    let position = 0;\n",
              "    do {\n",
              "      const length = Math.min(fileData.byteLength - position, MAX_PAYLOAD_SIZE);\n",
              "      const chunk = new Uint8Array(fileData, position, length);\n",
              "      position += length;\n",
              "\n",
              "      const base64 = btoa(String.fromCharCode.apply(null, chunk));\n",
              "      yield {\n",
              "        response: {\n",
              "          action: 'append',\n",
              "          file: file.name,\n",
              "          data: base64,\n",
              "        },\n",
              "      };\n",
              "\n",
              "      let percentDone = fileData.byteLength === 0 ?\n",
              "          100 :\n",
              "          Math.round((position / fileData.byteLength) * 100);\n",
              "      percent.textContent = `${percentDone}% done`;\n",
              "\n",
              "    } while (position < fileData.byteLength);\n",
              "  }\n",
              "\n",
              "  // All done.\n",
              "  yield {\n",
              "    response: {\n",
              "      action: 'complete',\n",
              "    }\n",
              "  };\n",
              "}\n",
              "\n",
              "scope.google = scope.google || {};\n",
              "scope.google.colab = scope.google.colab || {};\n",
              "scope.google.colab._files = {\n",
              "  _uploadFiles,\n",
              "  _uploadFilesContinue,\n",
              "};\n",
              "})(self);\n",
              "</script> "
            ]
          },
          "metadata": {}
        },
        {
          "output_type": "stream",
          "name": "stdout",
          "text": [
            "Saving WhatsApp Image 2025-04-04 at 20.54.28.jpeg to WhatsApp Image 2025-04-04 at 20.54.28 (2).jpeg\n"
          ]
        }
      ]
    },
    {
      "cell_type": "markdown",
      "source": [
        "#Practical Questions:"
      ],
      "metadata": {
        "id": "oGXpJvkNdHJv"
      }
    },
    {
      "cell_type": "code",
      "source": [
        "\"\"\"1. Write a Python function that takes a list of numbers as input and returns the sum of all even numbers in\n",
        " the list.\"\"\"\n",
        "\n",
        "def sum_even_numbers(numbers):\n",
        "    return sum(num for num in numbers if num % 2 == 0)\n",
        "\n",
        "\n"
      ],
      "metadata": {
        "id": "1jQu71kBdO19"
      },
      "execution_count": 18,
      "outputs": []
    },
    {
      "cell_type": "code",
      "source": [
        "\"2. Create a Python function that accepts a string and returns the reverse of that string.\"\n",
        "def reverse_string(s):\n",
        "    return s[::-1]\n",
        "\n"
      ],
      "metadata": {
        "id": "xtAnx9zMePpD"
      },
      "execution_count": null,
      "outputs": []
    },
    {
      "cell_type": "code",
      "source": [
        "\"\"\"3. Implement a Python function that takes a list of integers and returns a new list containing the squares of\n",
        "each number.\"\"\"\n",
        "def square_list(numbers):\n",
        "    return [num ** 2 for num in numbers]\n"
      ],
      "metadata": {
        "id": "xTXx9zp4e7Gf"
      },
      "execution_count": 19,
      "outputs": []
    },
    {
      "cell_type": "code",
      "source": [
        "\"\"\"4. Write a Python function that checks if a given number is prime or not from 1 to 200\"\"\"\n",
        "def is_prime(n):\n",
        "    if n < 2:\n",
        "        return False\n",
        "    for i in range(2, int(n ** 0.5) + 1):\n",
        "        if n % i == 0:\n",
        "            return False\n",
        "    return True\n",
        "\n"
      ],
      "metadata": {
        "id": "HOhKtJvgi018"
      },
      "execution_count": null,
      "outputs": []
    },
    {
      "cell_type": "code",
      "source": [
        "\"\"\"5. Create an iterator class in Python that generates the Fibonacci sequence up to a specified number of\n",
        "terms.\"\"\"\n",
        "class FibonacciIterator:\n",
        "    def __init__(self, max_terms):\n",
        "        self.max_terms = max_terms\n",
        "        self.a, self.b = 0, 1\n",
        "        self.count = 0\n",
        "\n",
        "    def __iter__(self):\n",
        "        return self\n",
        "\n",
        "    def __next__(self):\n",
        "        if self.count >= self.max_terms:\n",
        "            raise StopIteration\n",
        "        value = self.a\n",
        "        self.a, self.b = self.b, self.a + self.b\n",
        "        self.count += 1\n",
        "        return value\n"
      ],
      "metadata": {
        "id": "a6eMVFc6jGX9"
      },
      "execution_count": 20,
      "outputs": []
    },
    {
      "cell_type": "code",
      "source": [
        "\"\"\"6. Write a generator function in Python that yields the powers of 2 up to a given exponent.\"\"\"\n",
        "def powers_of_2(exponent):\n",
        "    for i in range(exponent + 1):\n",
        "        yield 2 ** i"
      ],
      "metadata": {
        "id": "L5jOJYVLjfp3"
      },
      "execution_count": 26,
      "outputs": []
    },
    {
      "cell_type": "code",
      "source": [
        "\"\"\"7. Implement a generator function that reads a file line by line and yields each line as a string.\"\"\"\n",
        "def read_file_line_by_line(filename):\n",
        "    with open(filename, 'r') as file:\n",
        "        for line in file:\n",
        "            yield line.strip()"
      ],
      "metadata": {
        "id": "X-qgq2QPjrkG"
      },
      "execution_count": 23,
      "outputs": []
    },
    {
      "cell_type": "code",
      "source": [
        "\"\"\"8. Use a lambda function in Python to sort a list of tuples based on the second element of each tuple.\"\"\"\n",
        "\n",
        "tuples_list = [(1, 3), (2, 1), (3, 2)]\n",
        "sorted_list = sorted(tuples_list, key=lambda x: x[1])\n",
        "print(sorted_list)"
      ],
      "metadata": {
        "colab": {
          "base_uri": "https://localhost:8080/"
        },
        "id": "dbvQawQekxCD",
        "outputId": "c8c74465-78b4-4f58-ccdf-512e80b244ea"
      },
      "execution_count": 27,
      "outputs": [
        {
          "output_type": "stream",
          "name": "stdout",
          "text": [
            "[(2, 1), (3, 2), (1, 3)]\n"
          ]
        }
      ]
    },
    {
      "cell_type": "code",
      "source": [
        "\"\"\"9. Write a Python program that uses `map()` to convert a list of temperatures from Celsius to Fahrenheit.\"\"\"\n",
        "celsius_temps = [0, 10, 20, 30]\n",
        "fahrenheit_temps = list(map(lambda c: (c * 9/5) + 32, celsius_temps))\n",
        "print(fahrenheit_temps)\n"
      ],
      "metadata": {
        "colab": {
          "base_uri": "https://localhost:8080/"
        },
        "id": "eoTK5-wolBt3",
        "outputId": "ae68f0cc-6adb-4562-86cd-261b0e3fe4a2"
      },
      "execution_count": 28,
      "outputs": [
        {
          "output_type": "stream",
          "name": "stdout",
          "text": [
            "[32.0, 50.0, 68.0, 86.0]\n"
          ]
        }
      ]
    },
    {
      "cell_type": "code",
      "source": [
        "\"\"\"10. Create a Python program that uses `filter()` to remove all the vowels from a given string.\"\"\"\n",
        "string = \"Hello, World!\"\n",
        "filtered_string = ''.join(filter(lambda char: char.lower() not in 'aeiou', string))\n",
        "print(filtered_string)"
      ],
      "metadata": {
        "colab": {
          "base_uri": "https://localhost:8080/"
        },
        "id": "BXda43fFlYK7",
        "outputId": "c47e4ce8-0a1b-4518-d243-9bfd63350e41"
      },
      "execution_count": 29,
      "outputs": [
        {
          "output_type": "stream",
          "name": "stdout",
          "text": [
            "Hll, Wrld!\n"
          ]
        }
      ]
    },
    {
      "cell_type": "code",
      "source": [
        "\"\"\"11) Imagine an accounting routine used in a book shop. It works on a list with sublists, which look like this:\"\"\"\n",
        "\n",
        "orders = [\n",
        "    [34587, \"Learning Python, Mark Lutz\", 4, 40.95],\n",
        "    [98762, \"Programming Python, Mark Lutz\", 5, 56.80],\n",
        "    [77226, \"Head First Python, Paul Barry\", 3, 32.95],\n",
        "    [88112, \"Einführung in Python3, Bernd Klein\", 3, 24.99]\n",
        "]\n",
        "\n",
        "result = list(map(lambda order: (order[0], order[2] * order[3] + (10 if order[2] * order[3] < 100 else 0)), orders))\n",
        "print(result)\n"
      ],
      "metadata": {
        "colab": {
          "base_uri": "https://localhost:8080/"
        },
        "id": "lZc0znWoltIC",
        "outputId": "44f1dea1-2c9c-47f9-d43a-46fc4aaf2b59"
      },
      "execution_count": 33,
      "outputs": [
        {
          "output_type": "stream",
          "name": "stdout",
          "text": [
            "[(34587, 163.8), (98762, 284.0), (77226, 108.85000000000001), (88112, 84.97)]\n"
          ]
        }
      ]
    }
  ]
}